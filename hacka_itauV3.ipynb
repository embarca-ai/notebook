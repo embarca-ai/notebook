{
 "cells": [
  {
   "cell_type": "code",
   "execution_count": null,
   "metadata": {},
   "outputs": [],
   "source": [
    " #pip install plotly"
   ]
  },
  {
   "cell_type": "code",
   "execution_count": 1,
   "metadata": {},
   "outputs": [],
   "source": [
    "import pandas as pd\n",
    "import numpy as np\n",
    "import dash\n",
    "import dash_core_components as dcc\n",
    "import dash_html_components as html\n",
    "import plotly.express as px\n"
   ]
  },
  {
   "cell_type": "code",
   "execution_count": 5,
   "metadata": {},
   "outputs": [
    {
     "name": "stderr",
     "output_type": "stream",
     "text": [
      "/Applications/anaconda3/lib/python3.8/site-packages/IPython/core/interactiveshell.py:3146: DtypeWarning: Columns (10,17,41,43,44,101,102,103,104,105,106,107,108,109,110,111,454,456,529,533) have mixed types.Specify dtype option on import or set low_memory=False.\n",
      "  has_raised = await self.run_ast_nodes(code_ast.body, cell_name,\n"
     ]
    }
   ],
   "source": [
    "base2 = \"tb_spaece_2015_lp_9f.csv\"\n",
    "dfp = pd.read_csv(base2, sep=';')"
   ]
  },
  {
   "cell_type": "code",
   "execution_count": 6,
   "metadata": {},
   "outputs": [],
   "source": [
    "dfp5 = dfp[['nm_escola','nm_regional_escola','dc_turno_turma', \n",
    "        'dc_rede_ensino_escola','nm_municipio','vl_perc_acertos', 'vl_proficiencia',\n",
    "        'd001_total', 'd002_total', 'd003_total','d004_total', \n",
    "        'd005_total', 'd006_total', 'd007_total', 'd008_total', \n",
    "        'd009_total', 'd010_total', 'd011_total', 'd012_total', \n",
    "        'd013_total', 'd014_total', 'd015_total', 'd016_total', \n",
    "        'd017_total', 'd018_total', 'd019_total', 'd020_total', \n",
    "        'd021_total', 'd022_total', 'd023_total']]"
   ]
  },
  {
   "cell_type": "code",
   "execution_count": 7,
   "metadata": {},
   "outputs": [
    {
     "name": "stderr",
     "output_type": "stream",
     "text": [
      "/Applications/anaconda3/lib/python3.8/site-packages/pandas/core/frame.py:4296: SettingWithCopyWarning: \n",
      "A value is trying to be set on a copy of a slice from a DataFrame\n",
      "\n",
      "See the caveats in the documentation: https://pandas.pydata.org/pandas-docs/stable/user_guide/indexing.html#returning-a-view-versus-a-copy\n",
      "  return super().rename(\n"
     ]
    }
   ],
   "source": [
    "dfp5.rename(columns={'nm_regional_escola': 'Regional Escola'}, inplace = True)\n",
    "dfp5.rename(columns={'vl_proficiencia': 'Proficiência'}, inplace = True)"
   ]
  },
  {
   "cell_type": "code",
   "execution_count": 8,
   "metadata": {},
   "outputs": [
    {
     "name": "stderr",
     "output_type": "stream",
     "text": [
      "<ipython-input-8-f3d74ec8bdf4>:1: SettingWithCopyWarning: \n",
      "A value is trying to be set on a copy of a slice from a DataFrame.\n",
      "Try using .loc[row_indexer,col_indexer] = value instead\n",
      "\n",
      "See the caveats in the documentation: https://pandas.pydata.org/pandas-docs/stable/user_guide/indexing.html#returning-a-view-versus-a-copy\n",
      "  dfp5['Média Procedimento de Leitura'] = dfp5.loc[:,'d001_total':'d007_total'].mean(axis=1)\n"
     ]
    }
   ],
   "source": [
    "dfp5['Média Procedimento de Leitura'] = dfp5.loc[:,'d001_total':'d007_total'].mean(axis=1)"
   ]
  },
  {
   "cell_type": "code",
   "execution_count": 9,
   "metadata": {},
   "outputs": [
    {
     "name": "stderr",
     "output_type": "stream",
     "text": [
      "<ipython-input-9-bbac54188b7c>:1: SettingWithCopyWarning: \n",
      "A value is trying to be set on a copy of a slice from a DataFrame.\n",
      "Try using .loc[row_indexer,col_indexer] = value instead\n",
      "\n",
      "See the caveats in the documentation: https://pandas.pydata.org/pandas-docs/stable/user_guide/indexing.html#returning-a-view-versus-a-copy\n",
      "  dfp5['media_d09_d11_II'] = dfp5.loc[:,'d009_total':'d011_total'].mean(axis=1)\n"
     ]
    }
   ],
   "source": [
    "dfp5['media_d09_d11_II'] = dfp5.loc[:,'d009_total':'d011_total'].mean(axis=1)"
   ]
  },
  {
   "cell_type": "code",
   "execution_count": 10,
   "metadata": {},
   "outputs": [
    {
     "name": "stderr",
     "output_type": "stream",
     "text": [
      "<ipython-input-10-c1ad2eac2ab5>:1: SettingWithCopyWarning: \n",
      "A value is trying to be set on a copy of a slice from a DataFrame.\n",
      "Try using .loc[row_indexer,col_indexer] = value instead\n",
      "\n",
      "See the caveats in the documentation: https://pandas.pydata.org/pandas-docs/stable/user_guide/indexing.html#returning-a-view-versus-a-copy\n",
      "  dfp5['media_d12_d13_III'] = dfp5.loc[:,'d012_total':'d013_total'].mean(axis=1)\n"
     ]
    }
   ],
   "source": [
    "dfp5['media_d12_d13_III'] = dfp5.loc[:,'d012_total':'d013_total'].mean(axis=1)"
   ]
  },
  {
   "cell_type": "code",
   "execution_count": 11,
   "metadata": {},
   "outputs": [
    {
     "name": "stderr",
     "output_type": "stream",
     "text": [
      "<ipython-input-11-0c9e8c6ccf0f>:1: SettingWithCopyWarning: \n",
      "A value is trying to be set on a copy of a slice from a DataFrame.\n",
      "Try using .loc[row_indexer,col_indexer] = value instead\n",
      "\n",
      "See the caveats in the documentation: https://pandas.pydata.org/pandas-docs/stable/user_guide/indexing.html#returning-a-view-versus-a-copy\n",
      "  dfp5['media_d19_d22_IV'] = dfp5.loc[:,'d019_total':'d022_total'].mean(axis=1)\n"
     ]
    }
   ],
   "source": [
    "dfp5['media_d19_d22_IV'] = dfp5.loc[:,'d019_total':'d022_total'].mean(axis=1)"
   ]
  },
  {
   "cell_type": "code",
   "execution_count": 12,
   "metadata": {},
   "outputs": [
    {
     "name": "stderr",
     "output_type": "stream",
     "text": [
      "<ipython-input-12-acfe4e61a5fa>:1: SettingWithCopyWarning: \n",
      "A value is trying to be set on a copy of a slice from a DataFrame.\n",
      "Try using .loc[row_indexer,col_indexer] = value instead\n",
      "\n",
      "See the caveats in the documentation: https://pandas.pydata.org/pandas-docs/stable/user_guide/indexing.html#returning-a-view-versus-a-copy\n",
      "  dfp5['Média dos descritores'] = dfp5.loc[:,'Média Procedimento de Leitura':'media_d19_d22_IV'].mean(axis=1)\n"
     ]
    }
   ],
   "source": [
    "dfp5['Média dos descritores'] = dfp5.loc[:,'Média Procedimento de Leitura':'media_d19_d22_IV'].mean(axis=1)"
   ]
  },
  {
   "cell_type": "code",
   "execution_count": 13,
   "metadata": {},
   "outputs": [
    {
     "data": {
      "text/plain": [
       "nm_escola                          media_d09_d11_II\n",
       "08 DE MAIO ESC DE ENS FUNDAMENTAL  1.666667            17\n",
       "                                   2.000000            17\n",
       "                                   1.333333             9\n",
       "                                   1.500000             6\n",
       "                                   2.500000             5\n",
       "Name: media_d09_d11_II, dtype: int64"
      ]
     },
     "execution_count": 13,
     "metadata": {},
     "output_type": "execute_result"
    }
   ],
   "source": [
    "media_leitura = dfp5.groupby('nm_escola')['media_d09_d11_II'].value_counts()\n",
    "media_leitura.head()"
   ]
  },
  {
   "cell_type": "code",
   "execution_count": 14,
   "metadata": {},
   "outputs": [
    {
     "data": {
      "text/plain": [
       "1.625000    14951\n",
       "1.479167    14662\n",
       "1.520833     9818\n",
       "1.791667     9684\n",
       "1.601190     4938\n",
       "1.583333     4930\n",
       "1.500000     4916\n",
       "1.476190     4913\n",
       "1.375000     4884\n",
       "1.875000     4881\n",
       "1.604167     4880\n",
       "1.482143     4879\n",
       "1.595238     4864\n",
       "1.958333     4845\n",
       "1.511905     4835\n",
       "1.187500       13\n",
       "1.666667       10\n",
       "1.708333        8\n",
       "1.562500        8\n",
       "1.437500        8\n",
       "1.233333        6\n",
       "1.416667        6\n",
       "1.750000        6\n",
       "1.000000        5\n",
       "1.458333        5\n",
       "1.429167        4\n",
       "1.559524        4\n",
       "1.166667        4\n",
       "1.050000        3\n",
       "1.916667        3\n",
       "1.250000        3\n",
       "1.125000        3\n",
       "1.291667        3\n",
       "1.266667        2\n",
       "1.512500        2\n",
       "1.416667        2\n",
       "1.392857        2\n",
       "1.541667        2\n",
       "1.533333        2\n",
       "1.333333        2\n",
       "1.333333        2\n",
       "1.350000        2\n",
       "1.316667        2\n",
       "1.691667        1\n",
       "1.291667        1\n",
       "1.458333        1\n",
       "1.641667        1\n",
       "1.466667        1\n",
       "1.300000        1\n",
       "1.616667        1\n",
       "1.533333        1\n",
       "1.541667        1\n",
       "Name: Média dos descritores, dtype: int64"
      ]
     },
     "execution_count": 14,
     "metadata": {},
     "output_type": "execute_result"
    }
   ],
   "source": [
    "dfp5['Média dos descritores'].value_counts()"
   ]
  },
  {
   "cell_type": "code",
   "execution_count": 15,
   "metadata": {},
   "outputs": [
    {
     "name": "stderr",
     "output_type": "stream",
     "text": [
      "<ipython-input-15-0edb50920dc0>:1: SettingWithCopyWarning: \n",
      "A value is trying to be set on a copy of a slice from a DataFrame.\n",
      "Try using .loc[row_indexer,col_indexer] = value instead\n",
      "\n",
      "See the caveats in the documentation: https://pandas.pydata.org/pandas-docs/stable/user_guide/indexing.html#returning-a-view-versus-a-copy\n",
      "  dfp5['faixa média descritor'] = pd.cut(dfp5['Média dos descritores'], bins=[1.5,1.7,1.9,2], right=False, labels=[\"Baixo\", \"Médio\", \"Bom\"])\n"
     ]
    }
   ],
   "source": [
    "dfp5['faixa média descritor'] = pd.cut(dfp5['Média dos descritores'], bins=[1.5,1.7,1.9,2], right=False, labels=[\"Baixo\", \"Médio\", \"Bom\"])"
   ]
  },
  {
   "cell_type": "code",
   "execution_count": 16,
   "metadata": {},
   "outputs": [],
   "source": [
    "grafi = dfp5.head(10)"
   ]
  },
  {
   "cell_type": "code",
   "execution_count": null,
   "metadata": {},
   "outputs": [
    {
     "name": "stdout",
     "output_type": "stream",
     "text": [
      "Dash is running on http://127.0.0.1:8050/\n",
      "\n",
      " * Serving Flask app \"__main__\" (lazy loading)\n",
      " * Environment: production\n",
      "\u001b[31m   WARNING: This is a development server. Do not use it in a production deployment.\u001b[0m\n",
      "\u001b[2m   Use a production WSGI server instead.\u001b[0m\n",
      " * Debug mode: off\n"
     ]
    },
    {
     "name": "stderr",
     "output_type": "stream",
     "text": [
      " * Running on http://127.0.0.1:8050/ (Press CTRL+C to quit)\n",
      "127.0.0.1 - - [31/May/2021 01:12:24] \"\u001b[37mGET / HTTP/1.1\u001b[0m\" 200 -\n",
      "127.0.0.1 - - [31/May/2021 01:12:25] \"\u001b[37mGET /_dash-dependencies HTTP/1.1\u001b[0m\" 200 -\n",
      "127.0.0.1 - - [31/May/2021 01:12:25] \"\u001b[37mGET /_dash-layout HTTP/1.1\u001b[0m\" 200 -\n"
     ]
    }
   ],
   "source": [
    "#grafico Análise descritores\n",
    "external_stylesheets = ['https://codepen.io/chriddyp/pen/bWLwgP.css']\n",
    "\n",
    "app = dash.Dash(__name__, external_stylesheets=external_stylesheets)\n",
    "\n",
    "fig = px.scatter(grafi, x=\"Proficiência\", y=\"Média Procedimento de Leitura\",\n",
    "                 size=\"Média Procedimento de Leitura\", color=\"Regional Escola\", hover_name=\"nm_escola\",\n",
    "                 log_x=True, size_max=60)\n",
    "\n",
    "app.layout = html.Div([\n",
    "        html.H4(\n",
    "        children='Média de acertos do descritor (procedimento de leitura) x Proficiência da Língua Portuguesa por Escola',\n",
    "        style={\n",
    "            'textAlign': 'center'\n",
    "        }\n",
    "    ),\n",
    "    dcc.Graph(\n",
    "        id='life-exp-vs-gdp',\n",
    "        figure=fig\n",
    "    )\n",
    "])\n",
    "\n",
    "if __name__ == '__main__':\n",
    "    app.run_server(debug=False)"
   ]
  },
  {
   "cell_type": "code",
   "execution_count": null,
   "metadata": {},
   "outputs": [],
   "source": []
  }
 ],
 "metadata": {
  "kernelspec": {
   "display_name": "Python 3",
   "language": "python",
   "name": "python3"
  },
  "language_info": {
   "codemirror_mode": {
    "name": "ipython",
    "version": 3
   },
   "file_extension": ".py",
   "mimetype": "text/x-python",
   "name": "python",
   "nbconvert_exporter": "python",
   "pygments_lexer": "ipython3",
   "version": "3.8.5"
  }
 },
 "nbformat": 4,
 "nbformat_minor": 4
}
